{
 "cells": [
  {
   "cell_type": "code",
   "execution_count": 1,
   "id": "c5d98173",
   "metadata": {},
   "outputs": [
    {
     "name": "stdout",
     "output_type": "stream",
     "text": [
      "Processed x_train shape: (60000, 28, 28, 1)\n"
     ]
    }
   ],
   "source": [
    "import numpy as np\n",
    "import pandas as pd\n",
    "import matplotlib.pyplot as plt\n",
    "import tensorflow as tf\n",
    "from tensorflow.keras import Model\n",
    "from tensorflow.keras.layers import Input, Conv2D, MaxPooling2D, concatenate, Dropout, BatchNormalization, Dense\n",
    "from tensorflow.keras.utils import to_categorical\n",
    "import tkinter as tk\n",
    "from PIL import Image, ImageDraw, ImageOps\n",
    "\n",
    "\n",
    "# ------------------------------\n",
    "# Load and preprocess MNIST data\n",
    "# ------------------------------\n",
    "(x_train, y_train), (x_test, y_test) = tf.keras.datasets.mnist.load_data()\n",
    "\n",
    "# Normalize images\n",
    "x_train = x_train.astype('float32') / 255.0\n",
    "x_test = x_test.astype('float32') / 255.0\n",
    "\n",
    "# Reshape for CNN input\n",
    "x_train = np.expand_dims(x_train, -1)\n",
    "x_test = np.expand_dims(x_test, -1)\n",
    "\n",
    "# One-hot encode labels\n",
    "num_classes = 10\n",
    "y_train = to_categorical(y_train, num_classes)\n",
    "y_test = to_categorical(y_test, num_classes)\n",
    "\n",
    "print(f\"Processed x_train shape: {x_train.shape}\")\n",
    "\n",
    "\n",
    "# ------------------------------\n",
    "# Define CNN model\n",
    "# ------------------------------\n",
    "from tensorflow.keras import Model\n",
    "from tensorflow.keras.layers import Input, Conv2D, MaxPooling2D, concatenate, Dropout, BatchNormalization, Dense\n",
    "\n",
    "def create_advanced_mnist_model(input_shape=(28,28,1), num_classes=10):\n",
    "    inputs = Input(shape=input_shape)\n",
    "    \n",
    "    # Pathway 1: Standard convolution\n",
    "    x1 = Conv2D(32, (3,3), activation='relu', padding='same')(inputs)\n",
    "    x1 = Conv2D(32, (3,3), activation='relu', padding='same')(x1)\n",
    "    x1 = MaxPooling2D((2,2))(x1)\n",
    "    x1 = Dropout(0.25)(x1)\n",
    "    \n",
    "    # Pathway 2: Larger receptive field\n",
    "    x2 = Conv2D(32, (5,5), activation='relu', padding='same')(inputs)\n",
    "    x2 = Conv2D(32, (5,5), activation='relu', padding='same')(x2)\n",
    "    x2 = MaxPooling2D((2,2))(x2)\n",
    "    x2 = Dropout(0.25)(x2)\n",
    "    \n",
    "    # Merge pathways\n",
    "    merged = concatenate([x1, x2])\n",
    "    \n",
    "    # Continue processing\n",
    "    x = Conv2D(64, (3,3), activation='relu', padding='same')(merged)\n",
    "    x = BatchNormalization()(x)\n",
    "    x = Conv2D(64, (3,3), activation='relu', padding='same')(x)\n",
    "    x = MaxPooling2D((2,2))(x)\n",
    "    x = Dropout(0.25)(x)\n",
    "    \n",
    "    x = Conv2D(128, (3,3), activation='relu', padding='same')(x)\n",
    "    x = BatchNormalization()(x)\n",
    "    x = Dropout(0.25)(x)\n",
    "    \n",
    "    # Global Average Pooling instead of Flatten\n",
    "    x = layers.GlobalAveragePooling2D()(x)\n",
    "    \n",
    "    # Dense layers\n",
    "    x = Dense(256, activation='relu')(x)\n",
    "    x = BatchNormalization()(x)\n",
    "    x = Dropout(0.5)(x)\n",
    "    \n",
    "    x = Dense(128, activation='relu')(x)\n",
    "    x = Dropout(0.5)(x)\n",
    "    \n",
    "    outputs = Dense(num_classes, activation='softmax')(x)\n",
    "    \n",
    "    model = Model(inputs=inputs, outputs=outputs)\n",
    "    return model\n",
    "\n"
   ]
  },
  {
   "cell_type": "code",
   "execution_count": 2,
   "id": "21dd0895",
   "metadata": {},
   "outputs": [
    {
     "name": "stdout",
     "output_type": "stream",
     "text": [
      "Loaded saved model.\n",
      "\u001b[1m313/313\u001b[0m \u001b[32m━━━━━━━━━━━━━━━━━━━━\u001b[0m\u001b[37m\u001b[0m \u001b[1m12s\u001b[0m 22ms/step - accuracy: 0.9942 - loss: 0.0214\n",
      "Test accuracy: 0.9950\n"
     ]
    }
   ],
   "source": [
    "try:\n",
    "    model = tf.keras.models.load_model('mnist_cnn_model.keras')\n",
    "    print(\"Loaded saved model.\")\n",
    "except:\n",
    "    print(\"Training new model...\")\n",
    "    model = create_advanced_mnist_model()\n",
    "    model.compile(loss='categorical_crossentropy', optimizer='adam', metrics=['accuracy'])\n",
    "    history = model.fit(x_train, y_train, epochs=30, validation_data=(x_test,y_test), batch_size=64)\n",
    "    model.save('mnist_cnn_model.keras')\n",
    "\n",
    "test_loss, test_accuracy = model.evaluate(x_test, y_test)\n",
    "print(f\"Test accuracy: {test_accuracy:.4f}\")\n",
    "\n"
   ]
  },
  {
   "cell_type": "code",
   "execution_count": 3,
   "id": "7aa8cb10",
   "metadata": {},
   "outputs": [
    {
     "name": "stdout",
     "output_type": "stream",
     "text": [
      "\u001b[1m313/313\u001b[0m \u001b[32m━━━━━━━━━━━━━━━━━━━━\u001b[0m\u001b[37m\u001b[0m \u001b[1m7s\u001b[0m 22ms/step\n"
     ]
    }
   ],
   "source": [
    "y_pred = model.predict(x_test)"
   ]
  },
  {
   "cell_type": "code",
   "execution_count": 6,
   "id": "30c4e32e",
   "metadata": {},
   "outputs": [],
   "source": [
    "y_pred_label = np.argmax(y_pred, axis=1)"
   ]
  },
  {
   "cell_type": "code",
   "execution_count": 9,
   "id": "eca9b39b",
   "metadata": {},
   "outputs": [],
   "source": [
    "y_true_label = np.argmax(y_pred, axis=1)"
   ]
  },
  {
   "cell_type": "code",
   "execution_count": 10,
   "id": "ef7e5e43",
   "metadata": {},
   "outputs": [],
   "source": [
    "from sklearn.metrics import confusion_matrix"
   ]
  },
  {
   "cell_type": "markdown",
   "id": "36243aab",
   "metadata": {},
   "source": [
    "Confusion matrix"
   ]
  },
  {
   "cell_type": "code",
   "execution_count": 13,
   "id": "3dcbc99c",
   "metadata": {},
   "outputs": [
    {
     "name": "stdout",
     "output_type": "stream",
     "text": [
      "[[ 983    0    0    0    0    0    0    0    0    0]\n",
      " [   0 1137    0    0    0    0    0    0    0    0]\n",
      " [   0    0 1029    0    0    0    0    0    0    0]\n",
      " [   0    0    0 1021    0    0    0    0    0    0]\n",
      " [   0    0    0    0  979    0    0    0    0    0]\n",
      " [   0    0    0    0    0  887    0    0    0    0]\n",
      " [   0    0    0    0    0    0  951    0    0    0]\n",
      " [   0    0    0    0    0    0    0 1027    0    0]\n",
      " [   0    0    0    0    0    0    0    0  975    0]\n",
      " [   0    0    0    0    0    0    0    0    0 1011]]\n"
     ]
    }
   ],
   "source": [
    "print(confusion_matrix(y_true=y_true_label, y_pred= y_pred_label))"
   ]
  },
  {
   "cell_type": "code",
   "execution_count": null,
   "id": "c58808e1",
   "metadata": {},
   "outputs": [],
   "source": []
  }
 ],
 "metadata": {
  "kernelspec": {
   "display_name": "Python (python_ds)",
   "language": "python",
   "name": "python_ds"
  },
  "language_info": {
   "codemirror_mode": {
    "name": "ipython",
    "version": 3
   },
   "file_extension": ".py",
   "mimetype": "text/x-python",
   "name": "python",
   "nbconvert_exporter": "python",
   "pygments_lexer": "ipython3",
   "version": "3.12.8"
  }
 },
 "nbformat": 4,
 "nbformat_minor": 5
}
